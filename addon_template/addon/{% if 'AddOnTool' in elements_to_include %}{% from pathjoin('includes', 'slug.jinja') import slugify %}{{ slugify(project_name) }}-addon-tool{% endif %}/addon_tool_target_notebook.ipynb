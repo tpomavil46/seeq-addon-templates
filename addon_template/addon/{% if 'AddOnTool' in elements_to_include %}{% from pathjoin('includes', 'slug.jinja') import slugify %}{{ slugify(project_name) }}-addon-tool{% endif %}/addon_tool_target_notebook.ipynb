{
 "cells": [
  {
   "cell_type": "code",
   "execution_count": null,
   "metadata": {
    "collapsed": true
   },
   "outputs": [],
   "source": [
    "from addon_tool import MyAddonToolExample\n"
   ]
  },
  {
   "cell_type": "code",
   "execution_count": null,
   "metadata": {
    "collapsed": false,
    "pycharm": {
     "name": "#%%\n"
    }
   },
   "outputs": [],
   "source": [
    "C = MyAddonToolExample(sdl_notebook_url=jupyter_notebook_url)\n",
    "C.run()\n"
   ]
  }
 ],
 "metadata": {
  "kernelspec": {
   "display_name": "Python 3.11",
   "language": "python",
   "name": "python311"
  },
  "language_info": {
   "name": "python"
  }
 },
 "nbformat": 4,
 "nbformat_minor": 2
}
