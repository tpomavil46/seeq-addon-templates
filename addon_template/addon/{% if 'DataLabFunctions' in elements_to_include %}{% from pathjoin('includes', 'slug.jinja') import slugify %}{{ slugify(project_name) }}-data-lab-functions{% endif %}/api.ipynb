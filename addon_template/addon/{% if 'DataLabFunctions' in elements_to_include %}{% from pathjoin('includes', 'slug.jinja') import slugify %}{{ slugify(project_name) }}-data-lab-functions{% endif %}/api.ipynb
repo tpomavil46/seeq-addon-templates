{
 "cells": [
  {
   "cell_type": "code",
   "execution_count": null,
   "metadata": {},
   "outputs": [],
   "source": [
    "import my_datalab_functions_example\n",
    "from logging import Logger\n",
    "from seeq import spy\n",
    "from typing import Any\n",
    "REQUEST: Any\n",
    "LOG: Logger"
   ]
  },
  {
   "cell_type": "code",
   "execution_count": null,
   "metadata": {},
   "outputs": [],
   "source": [
    "# This is a Data Lab Functions context cell since it is not annotated as a REST endpoint. Its contents will be executed only once, which is when the kernel is first executed.\n",
    "from datetime import datetime\n",
    "executed_timestamp = datetime.now()"
   ]
  },
  {
   "cell_type": "code",
   "execution_count": null,
   "metadata": {},
   "outputs": [],
   "source": [
    "# GET /hello\n",
    "#\n",
    "# Replace <my-seeq-server> and <project-id> with your Seeq server host name and project ID, respectively.\n",
    "# Visit https://<my-seeq-server>/data-lab/<project-id>/functions/notebooks/api/endpoints/hello to execute this endpoint.\n",
    "\n",
    "{\n",
    "    \"message\": f\"Hello, from Data Lab!! This kernel was initially executed at {executed_timestamp}.\",\n",
    "    \"version\": spy.server_version\n",
    "}"
   ]
  },
  {
   "cell_type": "code",
   "execution_count": null,
   "metadata": {
    "ExecuteTime": {
     "end_time": "2024-10-31T21:28:33.851234Z",
     "start_time": "2024-10-31T21:28:33.663554Z"
    }
   },
   "outputs": [],
   "source": [
    "# GET /view-querystring\n",
    "#\n",
    "# Replace <my-seeq-server> and <project-id> with your Seeq server host name and project ID, respectively.\n",
    "# Visit https://<my-seeq-server>/data-lab/<project-id>/functions/notebooks/api/endpoints/view-querystring?id=5&name=Seeq to execute this endpoint.\n",
    "\n",
    "# REQUEST['args'] is a dictionary containing the query string parameters\n",
    "# The response of this endpoint returns a JSON string. For example,\n",
    "# {\n",
    "#     \"id\": \"5\",\n",
    "#     \"name\": \"Seeq\"\n",
    "# }\n",
    "\n",
    "\n",
    "REQUEST['args']"
   ]
  },
  {
   "cell_type": "code",
   "execution_count": null,
   "metadata": {},
   "outputs": [],
   "source": [
    "# POST /view-payload\n",
    "#\n",
    "# Replace <my-seeq-server> and <project-id> with your Seeq server host name and project ID, respectively.\n",
    "# Using an API client such as Postman, send a POST request with the following body to https://<my-seeq-server>/data-lab/<project-id>/functions/notebooks/api/endpoints/view-payload\n",
    "# {\"message\": \"This is my Data Lab Functions POST request!\"}\n",
    "\n",
    "\n",
    "# REQUEST['body'] is a dictionary containing the request payload\n",
    "# The response of this endpoint returns a JSON string. For example,\n",
    "# {\n",
    "#     \"message\": \"This is my Data Lab Functions POST request!\"\n",
    "# }\n",
    "\n",
    "REQUEST['body']"
   ]
  },
  {
   "cell_type": "code",
   "execution_count": null,
   "metadata": {},
   "outputs": [],
   "source": [
    "# POST /combine\n",
    "\n",
    "# To develop Data Lab Functions as a traditional Python module implementation, move your API endpoint logic to a Python module structure and invoke the desired module method while passing in the REQUEST object\n",
    "#\n",
    "# NOTE: This endpoint is used as the backend for the Tool Pane Plugin example. \n",
    "# To make a request from an API client to this endpoint follow these steps:\n",
    "# 1. Open a Seeq Workbench workbook and bring two signals into the Display Panel.\n",
    "# 2. Make a note of the workbook ID and the worksheet ID from the URL of the workbook\n",
    "# 3. Click on the info button of each of the signals and get their IDs (save them for the next step)\n",
    "# 4. Using an API client such as Postman, send a POST request with the following body to https://<my-seeq-server>/data-lab/<project-id>/functions/notebooks/api/endpoints/combine\n",
    "# {\"idA\": \"<itemIdA>\", \"idB\": \"<itemIdB>\", \"op\": \"+\", \"workbookId\": \"<workbookId>\", \"worksheetId\": \"<worksheetId>\"}\n",
    "# Make sure to replace <my-seeq-server> and <project-id> with your Seeq server hostname and project ID, and <itemIdA>, <itemIdB>, <workbookId>, and <worksheetId> with the appropriate values from a Steps 2 and 3.\n",
    "# 5. View the logs by visiting https://<my-seeq-server>/data-lab/<project-id>/functions/logs\n",
    "\n",
    "my_datalab_functions_example.api.combine(REQUEST, LOG)"
   ]
  },
  {
   "cell_type": "code",
   "execution_count": null,
   "metadata": {},
   "outputs": [],
   "source": []
  }
 ],
 "metadata": {
  "kernelspec": {
   "display_name": "Python 3.11",
   "language": "python",
   "name": "python311"
  },
  "language_info": {
   "codemirror_mode": {
    "name": "ipython",
    "version": 3
   },
   "file_extension": ".py",
   "mimetype": "text/x-python",
   "name": "python",
   "nbconvert_exporter": "python",
   "pygments_lexer": "ipython3",
   "version": "3.11.4"
  }
 },
 "nbformat": 4,
 "nbformat_minor": 4
}
